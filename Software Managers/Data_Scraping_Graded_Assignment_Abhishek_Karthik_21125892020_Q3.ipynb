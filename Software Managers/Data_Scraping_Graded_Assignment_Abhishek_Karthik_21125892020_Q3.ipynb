{
 "cells": [
  {
   "cell_type": "markdown",
   "id": "8f650746",
   "metadata": {},
   "source": [
    "Q3. Scrape the following static website to extract the given data:\n",
    "\n",
    "Link: https://devtomanager.com/interviews/\n"
   ]
  },
  {
   "cell_type": "code",
   "execution_count": 1,
   "id": "63febbae",
   "metadata": {},
   "outputs": [],
   "source": [
    "import pandas as pd\n",
    "import os\n",
    "from bs4 import BeautifulSoup\n",
    "from selenium import webdriver"
   ]
  },
  {
   "cell_type": "code",
   "execution_count": 2,
   "id": "32f7e5ca",
   "metadata": {},
   "outputs": [],
   "source": [
    "# changing directory to webdriver file location\n",
    "os.chdir(\"D:\\Scripting\")"
   ]
  },
  {
   "cell_type": "code",
   "execution_count": 3,
   "id": "233c8038",
   "metadata": {},
   "outputs": [],
   "source": [
    "url = \"https://devtomanager.com/interviews/\""
   ]
  },
  {
   "cell_type": "code",
   "execution_count": 4,
   "id": "ae680f98",
   "metadata": {},
   "outputs": [],
   "source": [
    "# remotely accessing browser\n",
    "browser = webdriver.Firefox()"
   ]
  },
  {
   "cell_type": "code",
   "execution_count": 5,
   "id": "17e3a260",
   "metadata": {},
   "outputs": [],
   "source": [
    "browser.get(url)"
   ]
  },
  {
   "cell_type": "code",
   "execution_count": 6,
   "id": "72fbfa66",
   "metadata": {},
   "outputs": [
    {
     "data": {
      "text/plain": [
       "<html lang=\"en-US\"><head>\n",
       "<title>\n",
       "Interviews with Software Managers | Developer to Manager\n",
       "</title>\n",
       "<meta charset=\"utf-8\"/>\n",
       "<meta content=\"width=device-width, initial-scale=1.0, shrink-to-fit=no\" name=\"viewport\"/>\n",
       "<meta content=\"Siddhant Goel\" name=\"author\"/>\n",
       "<meta content=\"career, development, engineering-management, knowledge, leadership, management, platform, software\" name=\"keywords\"/>\n",
       "<meta content=\"At Developer to Manager, we regularly interview software engineering managers on how they approach management and leadership.\" name=\"description\"/>\n",
       "<meta content=\"summary\" name=\"twitter:card\"/>\n",
       "<meta content=\"Interviews with Software Managers | Developer to Manager\" name=\"twitter:title\"/>\n",
       "<meta content=\"About transitioning from development to management\" name=\"twitter:description\"/>\n",
       "<meta content=\"@devtomanager\" name=\"twitter:site\"/>\n",
       "<meta content=\"https://devtomanager.com/static/images/logo-wide.png\" name=\"twitter:image\"/>\n",
       "<meta content=\"https://devtomanager.com/interviews/page/1/\" property=\"og:url\"/>\n",
       "<meta content=\"Interviews with Software Managers | Developer to Manager\" property=\"og:title\"/>\n",
       "<meta content=\"About transitioning from development to management\" property=\"og:description\"/>\n",
       "<meta content=\"https://devtomanager.com/static/images/logo-wide.png\" property=\"og:image\"/>\n",
       "<link href=\"https://devtomanager.com/interviews/page/1/\" rel=\"canonical\"/>\n",
       "<link href=\"/static/images/apple-touch-icon.png\" rel=\"apple-touch-icon\" sizes=\"180x180\"/>\n",
       "<link href=\"/static/images/favicon-32x32.png\" rel=\"icon\" sizes=\"32x32\" type=\"image/png\"/>\n",
       "<link href=\"/static/images/favicon-16x16.png\" rel=\"icon\" sizes=\"16x16\" type=\"image/png\"/>\n",
       "<link href=\"/static/images/site.webmanifest\" rel=\"manifest\"/>\n",
       "<link href=\"/static/images/favicon.ico\" rel=\"shortcut icon\" type=\"image/x-icon\"/>\n",
       "<link href=\"https://twitter.com/devtomanager\" rel=\"me\"/>\n",
       "<link href=\"/interviews/atom.xml\" rel=\"alternate\" type=\"application/atom+xml\"/>\n",
       "<link href=\"/static/css/app.css\" rel=\"stylesheet\" type=\"text/css\"/>\n",
       "</head>\n",
       "<body class=\"bg-light eo-recaptcha-bound\">\n",
       "<div class=\"container\">\n",
       "<div class=\"row\">\n",
       "<div class=\"col border-bottom\">\n",
       "<nav class=\"navbar navbar-light navbar-expand-lg\" role=\"navigation\">\n",
       "<a class=\"navbar-brand\" href=\"/\">\n",
       "<img alt=\"Developer to Manager\" height=\"64\" src=\"/static/images/logo.png\" width=\"64\"/>\n",
       "</a>\n",
       "<button aria-controls=\"#navbar-menu\" aria-expanded=\"false\" aria-label=\"Toggle navigation\" class=\"navbar-toggler\" data-target=\"#navbar-menu\" data-toggle=\"collapse\" type=\"button\">\n",
       "<span class=\"navbar-toggler-icon\"></span>\n",
       "</button>\n",
       "<div class=\"collapse navbar-collapse\" id=\"navbar-menu\">\n",
       "<span class=\"navbar-text\">\n",
       "<a href=\"/\">\n",
       "<span class=\"h4\">Developer to Manager</span>\n",
       "</a>\n",
       "</span>\n",
       "<ul class=\"navbar-nav ml-auto\">\n",
       "<li class=\"nav-item\">\n",
       "<a class=\"nav-link\" href=\"/interviews/\">\n",
       "                                All Interviews 🎙️\n",
       "                            </a>\n",
       "</li>\n",
       "<li class=\"nav-item\">\n",
       "<a class=\"nav-link\" href=\"/blog/\">\n",
       "                                Blog 📑\n",
       "                            </a>\n",
       "</li>\n",
       "<li class=\"nav-item\">\n",
       "<a class=\"nav-link\" href=\"https://liberapay.com/devtomanager/donate\" target=\"_blank\">\n",
       "                                Support us! 🙏\n",
       "                            </a>\n",
       "</li>\n",
       "<li class=\"nav-item dropdown\">\n",
       "<a aria-expanded=\"false\" aria-haspopup=\"true\" class=\"nav-link dropdown-toggle\" data-toggle=\"dropdown\" href=\"#\" role=\"button\">\n",
       "                                More\n",
       "                            </a>\n",
       "<div class=\"dropdown-menu dropdown-menu-right\">\n",
       "<a class=\"dropdown-item\" href=\"/about/\">\n",
       "                                    About\n",
       "                                </a>\n",
       "<a class=\"dropdown-item\" href=\"mailto:hello@devtomanager.com?subject=Hello!\">\n",
       "                                    Contact\n",
       "                                </a>\n",
       "<a class=\"dropdown-item\" href=\"/impressum/\">\n",
       "                                    Impressum\n",
       "                                </a>\n",
       "</div>\n",
       "</li>\n",
       "</ul>\n",
       "</div>\n",
       "</nav>\n",
       "</div>\n",
       "</div>\n",
       "</div>\n",
       "<div class=\"container\">\n",
       "<div class=\"row mb-3\">\n",
       "<div class=\"col-sm-12 col-lg-8 offset-lg-2\">\n",
       "<div class=\"row mt-5\">\n",
       "<div class=\"col\">\n",
       "<p class=\"text-right\">\n",
       "<a class=\"text-reset font-weight-bold\" href=\"https://devtomanager.typeform.com/to/uHf6jo\" target=\"_blank\">\n",
       "        Submit your interview\n",
       "        <i class=\"icon-add-circle-outline mr-1\"></i>\n",
       "</a>\n",
       "</p>\n",
       "</div>\n",
       "</div>\n",
       "<div class=\"row mt-3\">\n",
       "<div class=\"col\">\n",
       "<h1 class=\"text-center\">Interviews with Software Managers</h1>\n",
       "<h4 class=\"text-center\">About transitioning from development to management</h4>\n",
       "</div>\n",
       "</div>\n",
       "<div class=\"row mt-5\">\n",
       "<div class=\"col text-center\">\n",
       "<span class=\"mr-2\">\n",
       "<a class=\"text-reset\" href=\"/interviews/tag/coaching/\">\n",
       "        #coaching\n",
       "    </a>\n",
       "</span>\n",
       "<span class=\"mr-2\">\n",
       "<a class=\"text-reset\" href=\"/interviews/tag/frontend/\">\n",
       "        #frontend\n",
       "    </a>\n",
       "</span>\n",
       "<span class=\"mr-2\">\n",
       "<a class=\"text-reset\" href=\"/interviews/tag/product/\">\n",
       "        #product\n",
       "    </a>\n",
       "</span>\n",
       "<span class=\"mr-2\">\n",
       "<a class=\"text-reset\" href=\"/interviews/tag/self-taught/\">\n",
       "        #self-taught\n",
       "    </a>\n",
       "</span>\n",
       "<span class=\"mr-2\">\n",
       "<a class=\"text-reset\" href=\"/interviews/tag/startup/\">\n",
       "        #startup\n",
       "    </a>\n",
       "</span>\n",
       "<span class=\"mr-2\">\n",
       "<a class=\"text-reset\" href=\"/interviews/tag/web/\">\n",
       "        #web\n",
       "    </a>\n",
       "</span>\n",
       "</div>\n",
       "</div>\n",
       "<div class=\"row mt-5\">\n",
       "<div class=\"col\">\n",
       "<div class=\"card bg-light border-0\">\n",
       "<div class=\"row no-gutters\">\n",
       "<div class=\"col-md-4 text-center\">\n",
       "<a href=\"/interviews/aviv-ben-yosef/\">\n",
       "<figure class=\"figure\">\n",
       "<img alt=\"Aviv Ben-Yosef, Tech Executive Consultant\" class=\"figure-img img-fluid img-thumbnail rounded-circle\" height=\"200\" src=\"/static/images/interviews/aviv-ben-yosef.png\" width=\"200\"/>\n",
       "</figure>\n",
       "</a>\n",
       "</div>\n",
       "<div class=\"col-md-8\">\n",
       "<div class=\"card-body\">\n",
       "<h5 class=\"card-title\">\n",
       "<a class=\"text-reset\" href=\"/interviews/aviv-ben-yosef/\">\n",
       "                        Aviv Ben-Yosef, Tech Executive Consultant\n",
       "                    </a>\n",
       "</h5>\n",
       "<p class=\"card-text\">\n",
       "                “I want to set up managers to succeed, no matter how much background they’ve already got.”\n",
       "                </p>\n",
       "<p class=\"card-text\">\n",
       "                    August 16, 2021\n",
       "                    ·\n",
       "                    \n",
       "                    <strong class=\"mr-2\">\n",
       "<a class=\"text-reset\" href=\"/interviews/tag/coaching/\">\n",
       "                            #coaching\n",
       "                        </a>\n",
       "</strong>\n",
       "<strong class=\"mr-2\">\n",
       "<a class=\"text-reset\" href=\"/interviews/tag/consulting/\">\n",
       "                            #consulting\n",
       "                        </a>\n",
       "</strong>\n",
       "</p>\n",
       "</div>\n",
       "</div>\n",
       "</div>\n",
       "</div>\n",
       "</div>\n",
       "</div>\n",
       "<div class=\"row mt-5\">\n",
       "<div class=\"col\">\n",
       "<div class=\"card bg-light border-0\">\n",
       "<div class=\"row no-gutters\">\n",
       "<div class=\"col-md-4 text-center\">\n",
       "<a href=\"/interviews/anand-safi/\">\n",
       "<figure class=\"figure\">\n",
       "<img alt=\"Anand Safi, Engineering Manager at Mark43\" class=\"figure-img img-fluid img-thumbnail rounded-circle\" height=\"200\" src=\"/static/images/interviews/anand-safi.png\" width=\"200\"/>\n",
       "</figure>\n",
       "</a>\n",
       "</div>\n",
       "<div class=\"col-md-8\">\n",
       "<div class=\"card-body\">\n",
       "<h5 class=\"card-title\">\n",
       "<a class=\"text-reset\" href=\"/interviews/anand-safi/\">\n",
       "                        Anand Safi, Engineering Manager at Mark43\n",
       "                    </a>\n",
       "</h5>\n",
       "<p class=\"card-text\">\n",
       "                “I very well understand where my interests lie, which is being an enabler first and then a creator rather than being a creator/ maker 100%.”\n",
       "                </p>\n",
       "<p class=\"card-text\">\n",
       "                    July 19, 2021\n",
       "                    ·\n",
       "                    \n",
       "                    <strong class=\"mr-2\">\n",
       "<a class=\"text-reset\" href=\"/interviews/tag/coaching/\">\n",
       "                            #coaching\n",
       "                        </a>\n",
       "</strong>\n",
       "<strong class=\"mr-2\">\n",
       "<a class=\"text-reset\" href=\"/interviews/tag/frontend/\">\n",
       "                            #frontend\n",
       "                        </a>\n",
       "</strong>\n",
       "<strong class=\"mr-2\">\n",
       "<a class=\"text-reset\" href=\"/interviews/tag/full-stack/\">\n",
       "                            #full-stack\n",
       "                        </a>\n",
       "</strong>\n",
       "<strong class=\"mr-2\">\n",
       "<a class=\"text-reset\" href=\"/interviews/tag/public-safety/\">\n",
       "                            #public-safety\n",
       "                        </a>\n",
       "</strong>\n",
       "</p>\n",
       "</div>\n",
       "</div>\n",
       "</div>\n",
       "</div>\n",
       "</div>\n",
       "</div>\n",
       "<div class=\"row mt-5\">\n",
       "<div class=\"col\">\n",
       "<div class=\"card bg-light border-0\">\n",
       "<div class=\"row no-gutters\">\n",
       "<div class=\"col-md-4 text-center\">\n",
       "<a href=\"/interviews/shawn-axsom/\">\n",
       "<figure class=\"figure\">\n",
       "<img alt=\"Shawn Axsom, Senior Engineering Manager at Docker\" class=\"figure-img img-fluid img-thumbnail rounded-circle\" height=\"200\" src=\"/static/images/interviews/shawn-axsom.png\" width=\"200\"/>\n",
       "</figure>\n",
       "</a>\n",
       "</div>\n",
       "<div class=\"col-md-8\">\n",
       "<div class=\"card-body\">\n",
       "<h5 class=\"card-title\">\n",
       "<a class=\"text-reset\" href=\"/interviews/shawn-axsom/\">\n",
       "                        Shawn Axsom, Senior Engineering Manager at Docker\n",
       "                    </a>\n",
       "</h5>\n",
       "<p class=\"card-text\">\n",
       "                “Your focus (and challenges) grows from your direct reports, to teams, to departments, executives, and then external customers and partnerships.”\n",
       "                </p>\n",
       "<p class=\"card-text\">\n",
       "                    July 05, 2021\n",
       "                    ·\n",
       "                    \n",
       "                    <strong class=\"mr-2\">\n",
       "<a class=\"text-reset\" href=\"/interviews/tag/backend/\">\n",
       "                            #backend\n",
       "                        </a>\n",
       "</strong>\n",
       "<strong class=\"mr-2\">\n",
       "<a class=\"text-reset\" href=\"/interviews/tag/coaching/\">\n",
       "                            #coaching\n",
       "                        </a>\n",
       "</strong>\n",
       "<strong class=\"mr-2\">\n",
       "<a class=\"text-reset\" href=\"/interviews/tag/information-systems/\">\n",
       "                            #information-systems\n",
       "                        </a>\n",
       "</strong>\n",
       "<strong class=\"mr-2\">\n",
       "<a class=\"text-reset\" href=\"/interviews/tag/web/\">\n",
       "                            #web\n",
       "                        </a>\n",
       "</strong>\n",
       "</p>\n",
       "</div>\n",
       "</div>\n",
       "</div>\n",
       "</div>\n",
       "</div>\n",
       "</div>\n",
       "<div class=\"row mt-5\">\n",
       "<div class=\"col\">\n",
       "<div class=\"card bg-light border-0\">\n",
       "<div class=\"row no-gutters\">\n",
       "<div class=\"col-md-4 text-center\">\n",
       "<a href=\"/interviews/kevin-doyle/\">\n",
       "<figure class=\"figure\">\n",
       "<img alt=\"Kevin Doyle, CTO at patientMpower\" class=\"figure-img img-fluid img-thumbnail rounded-circle\" height=\"200\" src=\"/static/images/interviews/kevin-doyle.png\" width=\"200\"/>\n",
       "</figure>\n",
       "</a>\n",
       "</div>\n",
       "<div class=\"col-md-8\">\n",
       "<div class=\"card-body\">\n",
       "<h5 class=\"card-title\">\n",
       "<a class=\"text-reset\" href=\"/interviews/kevin-doyle/\">\n",
       "                        Kevin Doyle, CTO at patientMpower\n",
       "                    </a>\n",
       "</h5>\n",
       "<p class=\"card-text\">\n",
       "                “If I can provide enough direction to allow people to focus on the jobs they’ll do better than I ever could, everybody wins.”\n",
       "                </p>\n",
       "<p class=\"card-text\">\n",
       "                    June 21, 2021\n",
       "                    ·\n",
       "                    \n",
       "                    <strong class=\"mr-2\">\n",
       "<a class=\"text-reset\" href=\"/interviews/tag/full-stack/\">\n",
       "                            #full-stack\n",
       "                        </a>\n",
       "</strong>\n",
       "<strong class=\"mr-2\">\n",
       "<a class=\"text-reset\" href=\"/interviews/tag/health-tech/\">\n",
       "                            #health-tech\n",
       "                        </a>\n",
       "</strong>\n",
       "</p>\n",
       "</div>\n",
       "</div>\n",
       "</div>\n",
       "</div>\n",
       "</div>\n",
       "</div>\n",
       "<div class=\"row mt-5\">\n",
       "<div class=\"col\">\n",
       "<div class=\"card bg-light border-0\">\n",
       "<div class=\"row no-gutters\">\n",
       "<div class=\"col-md-4 text-center\">\n",
       "<a href=\"/interviews/arnab-sen/\">\n",
       "<figure class=\"figure\">\n",
       "<img alt=\"Arnab Sen, Technical Delivery Manager at AKQA\" class=\"figure-img img-fluid img-thumbnail rounded-circle\" height=\"200\" src=\"/static/images/interviews/arnab-sen.png\" width=\"200\"/>\n",
       "</figure>\n",
       "</a>\n",
       "</div>\n",
       "<div class=\"col-md-8\">\n",
       "<div class=\"card-body\">\n",
       "<h5 class=\"card-title\">\n",
       "<a class=\"text-reset\" href=\"/interviews/arnab-sen/\">\n",
       "                        Arnab Sen, Technical Delivery Manager at AKQA\n",
       "                    </a>\n",
       "</h5>\n",
       "<p class=\"card-text\">\n",
       "                “The switch to management can be highly rewarding and provide a level of independence, authority, and interactivity that a pure software engineering role may not offer.”\n",
       "                </p>\n",
       "<p class=\"card-text\">\n",
       "                    May 10, 2021\n",
       "                    ·\n",
       "                    \n",
       "                    <strong class=\"mr-2\">\n",
       "<a class=\"text-reset\" href=\"/interviews/tag/consulting/\">\n",
       "                            #consulting\n",
       "                        </a>\n",
       "</strong>\n",
       "<strong class=\"mr-2\">\n",
       "<a class=\"text-reset\" href=\"/interviews/tag/digital-marketing/\">\n",
       "                            #digital-marketing\n",
       "                        </a>\n",
       "</strong>\n",
       "<strong class=\"mr-2\">\n",
       "<a class=\"text-reset\" href=\"/interviews/tag/e-commerce/\">\n",
       "                            #e-commerce\n",
       "                        </a>\n",
       "</strong>\n",
       "<strong class=\"mr-2\">\n",
       "<a class=\"text-reset\" href=\"/interviews/tag/product/\">\n",
       "                            #product\n",
       "                        </a>\n",
       "</strong>\n",
       "</p>\n",
       "</div>\n",
       "</div>\n",
       "</div>\n",
       "</div>\n",
       "</div>\n",
       "</div>\n",
       "<div class=\"row mt-5\">\n",
       "<div class=\"col text-left\">\n",
       "</div>\n",
       "<div class=\"col text-right\">\n",
       "<a class=\"text-reset font-weight-bold\" href=\"/interviews/page/2/\">\n",
       "            Older\n",
       "            <i class=\"icon-arrow-forward-circle-outline\"></i>\n",
       "</a>\n",
       "</div>\n",
       "</div>\n",
       "<div class=\"row mt-5\">\n",
       "<div class=\"col\">\n",
       "<div class=\"row text-center\">\n",
       "<div class=\"container\">\n",
       "<div class=\"row\">\n",
       "<div class=\"col\">\n",
       "                Join <mark>thousands</mark> of other subscribers receiving updates\n",
       "                <mark>every 2 weeks</mark>!\n",
       "            </div>\n",
       "</div>\n",
       "<div class=\"row\">\n",
       "<div class=\"col-6 offset-3\">\n",
       "<div class=\"emailoctopus-form-wrapper emailoctopus-form-default null\">\n",
       "<form action=\"https://emailoctopus.com/lists/f17f7f51-575e-11eb-a3d0-06b4694bee2a/members/embedded/1.3s/add\" class=\"emailoctopus-form form bound\" data-message-bot-submission-error=\"This doesn't look like a human submission.\" data-message-consent-required=\"Please check the checkbox to indicate your consent.\" data-message-invalid-email-address=\"Your email address looks incorrect, please try again.\" data-message-invalid-parameters-error=\"This form has missing or invalid fields.\" data-message-missing-email-address=\"Your email address is required.\" data-message-success=\"Thanks for subscribing!\" data-message-unknown-error=\"Sorry, an unknown error has occurred. Please try again later.\" data-sitekey=\"6LdYsmsUAAAAAPXVTt-ovRsPIJ_IVhvYBBhGvRV6\" data-widget-id=\"0\" method=\"post\">\n",
       "<p class=\"emailoctopus-success-message\"></p>\n",
       "<p class=\"emailoctopus-error-message\"></p>\n",
       "<input name=\"successRedirectUrl\" type=\"hidden\" value=\"https://devtomanager.com/thank-you/\"/>\n",
       "<div class=\"input-group mb-2\">\n",
       "<div class=\"input-group-prepend\">\n",
       "<div class=\"input-group-text\">\n",
       "<i class=\"icon-mail\"></i>\n",
       "</div>\n",
       "</div>\n",
       "<input class=\"form-control\" id=\"field_0\" name=\"field_0\" placeholder=\"email@example.com\" required=\"\" type=\"email\"/>\n",
       "<div class=\"input-group-append\">\n",
       "<button class=\"btn btn btn-dark\" type=\"submit\">\n",
       "                                    Join!\n",
       "                                </button>\n",
       "</div>\n",
       "</div>\n",
       "<div class=\"emailoctopus-form-row-consent custom-control custom-switch\">\n",
       "<input class=\"custom-control-input\" id=\"consent\" name=\"consent\" required=\"\" type=\"checkbox\"/>\n",
       "<label class=\"custom-control-label\" for=\"consent\">\n",
       "                                Yes, sign me up!\n",
       "                            </label>\n",
       "</div>\n",
       "<div aria-hidden=\"true\" class=\"emailoctopus-form-row-hp d-none\">\n",
       "<input autocomplete=\"nope\" name=\"hpc4b27b6e-eb38-11e9-be00-06b4694bee2a\" tabindex=\"-1\" type=\"text\"/>\n",
       "</div>\n",
       "<div class=\"g-recaptcha\" data-sitekey=\"6LdYsmsUAAAAAPXVTt-ovRsPIJ_IVhvYBBhGvRV6\" data-size=\"invisible\" data-theme=\"light\" data-type=\"image\"><div class=\"grecaptcha-badge\" data-style=\"bottomright\" style=\"width: 256px; height: 60px; display: block; transition: right 0.3s ease 0s; position: fixed; bottom: 14px; right: -186px; box-shadow: gray 0px 0px 5px; border-radius: 2px; overflow: hidden;\"><div class=\"grecaptcha-logo\"><iframe frameborder=\"0\" height=\"60\" name=\"a-ywnoz4sr7ka2\" role=\"presentation\" sandbox=\"allow-forms allow-popups allow-same-origin allow-scripts allow-top-navigation allow-modals allow-popups-to-escape-sandbox allow-storage-access-by-user-activation\" scrolling=\"no\" src=\"https://www.google.com/recaptcha/api2/anchor?ar=1&amp;k=6LdYsmsUAAAAAPXVTt-ovRsPIJ_IVhvYBBhGvRV6&amp;co=aHR0cHM6Ly9kZXZ0b21hbmFnZXIuY29tOjQ0Mw..&amp;hl=en&amp;type=image&amp;v=_exWVY_hlNJJl2Abm8pI9i1L&amp;theme=light&amp;size=invisible&amp;cb=e4pnhw8jf7nc\" title=\"reCAPTCHA\" width=\"256\"></iframe></div><div class=\"grecaptcha-error\"></div><textarea class=\"g-recaptcha-response\" id=\"g-recaptcha-response\" name=\"g-recaptcha-response\" style=\"width: 250px; height: 40px; border: 1px solid rgb(193, 193, 193); margin: 10px 25px; padding: 0px; resize: none; display: none;\"></textarea></div><iframe style=\"display: none;\"></iframe></div></form>\n",
       "</div>\n",
       "</div>\n",
       "</div>\n",
       "</div>\n",
       "</div>\n",
       "</div>\n",
       "</div>\n",
       "</div>\n",
       "</div>\n",
       "</div>\n",
       "<div class=\"container border-top\">\n",
       "<div class=\"row mt-3 mb-3\">\n",
       "<div class=\"col\">\n",
       "            © Developer to Manager 2018 - 2021\n",
       "\n",
       "            <a class=\"btn\" href=\"https://twitter.com/devtomanager\" target=\"_blank\">\n",
       "<i class=\"icon-logo-twitter\"></i>\n",
       "</a>\n",
       "<a class=\"btn\" href=\"https://www.linkedin.com/company/developer-to-manager\" target=\"_blank\">\n",
       "<i class=\"icon-logo-linkedin\"></i>\n",
       "</a>\n",
       "</div>\n",
       "<div class=\"col text-right\">\n",
       "<span>Crafted with ♥️ in Munich</span>\n",
       "</div>\n",
       "</div>\n",
       "</div>\n",
       "<script async=\"\" crossorigin=\"anonymous\" integrity=\"sha384-0ekdM7lV68sbOr8s62kW4bKzV9c9AvM3TResBrO9+nRRWySSYhcWJaLDjqUe69Or\" src=\"https://www.gstatic.com/recaptcha/releases/_exWVY_hlNJJl2Abm8pI9i1L/recaptcha__en.js\" type=\"text/javascript\"></script><script async=\"\" data-domain=\"devtomanager.com\" src=\"https://plausible.io/js/plausible.js\">\n",
       "</script>\n",
       "<script async=\"\" src=\"/static/js/app.js\"></script>\n",
       "<script async=\"\" src=\"https://emailoctopus.com/bundles/emailoctopuslist/js/1.6/form-recaptcha.js\"></script>\n",
       "<script async=\"\" src=\"https://emailoctopus.com/bundles/emailoctopuslist/js/1.6/form-embed.js\"></script>\n",
       "<script async=\"\" defer=\"\" src=\"https://www.google.com/recaptcha/api.js?onload=onGoogleRecaptchaLoaded&amp;render=explicit\" type=\"text/javascript\"></script><div style=\"visibility: hidden; position: absolute; width: 100%; top: -10000px; left: 0px; right: 0px; transition: visibility 0s linear 0.3s, opacity 0.3s linear 0s; opacity: 0;\"><div style=\"width: 100%; height: 100%; position: fixed; top: 0px; left: 0px; z-index: 2000000000; background-color: rgb(255, 255, 255); opacity: 0.5;\"></div><div style=\"margin: 0px auto; top: 0px; left: 0px; right: 0px; position: absolute; border: 1px solid rgb(204, 204, 204); z-index: 2000000000; background-color: rgb(255, 255, 255); overflow: hidden;\"><iframe frameborder=\"0\" name=\"c-ywnoz4sr7ka2\" sandbox=\"allow-forms allow-popups allow-same-origin allow-scripts allow-top-navigation allow-modals allow-popups-to-escape-sandbox allow-storage-access-by-user-activation\" scrolling=\"no\" src=\"https://www.google.com/recaptcha/api2/bframe?hl=en&amp;v=_exWVY_hlNJJl2Abm8pI9i1L&amp;k=6LdYsmsUAAAAAPXVTt-ovRsPIJ_IVhvYBBhGvRV6\" style=\"width: 100%; height: 100%;\" title=\"recaptcha challenge expires in two minutes\"></iframe></div></div></body></html>"
      ]
     },
     "execution_count": 6,
     "metadata": {},
     "output_type": "execute_result"
    }
   ],
   "source": [
    "# getting the html code from the webpage\n",
    "html = browser.page_source\n",
    "soup = BeautifulSoup(html, \"html.parser\")\n",
    "soup"
   ]
  },
  {
   "cell_type": "code",
   "execution_count": 7,
   "id": "17257dae",
   "metadata": {},
   "outputs": [
    {
     "data": {
      "text/plain": [
       "['Anand Safi', ' Engineering Manager at Mark43']"
      ]
     },
     "execution_count": 7,
     "metadata": {},
     "output_type": "execute_result"
    }
   ],
   "source": [
    "soup.find_all(class_ = \"card-title\")[1].text.strip().split(\",\")"
   ]
  },
  {
   "cell_type": "code",
   "execution_count": 8,
   "id": "1b136736",
   "metadata": {},
   "outputs": [
    {
     "data": {
      "text/plain": [
       "['Aviv Ben-Yosef', 'Anand Safi', 'Shawn Axsom', 'Kevin Doyle', 'Arnab Sen']"
      ]
     },
     "execution_count": 8,
     "metadata": {},
     "output_type": "execute_result"
    }
   ],
   "source": [
    "# scraping the employee names\n",
    "emp_name = [i.text.strip().split(\",\")[0] for i in soup.find_all(class_ = \"card-title\")]\n",
    "emp_name"
   ]
  },
  {
   "cell_type": "code",
   "execution_count": 9,
   "id": "625f026c",
   "metadata": {},
   "outputs": [
    {
     "data": {
      "text/plain": [
       "5"
      ]
     },
     "execution_count": 9,
     "metadata": {},
     "output_type": "execute_result"
    }
   ],
   "source": [
    "len(emp_name)"
   ]
  },
  {
   "cell_type": "code",
   "execution_count": 10,
   "id": "f5a224f2",
   "metadata": {},
   "outputs": [
    {
     "data": {
      "text/plain": [
       "[' Tech Executive Consultant']"
      ]
     },
     "execution_count": 10,
     "metadata": {},
     "output_type": "execute_result"
    }
   ],
   "source": [
    "soup.find_all(class_ = \"card-title\")[0].text.strip().split(\",\")[1].split(\"at\",1)"
   ]
  },
  {
   "cell_type": "code",
   "execution_count": 11,
   "id": "bba932e5",
   "metadata": {},
   "outputs": [
    {
     "data": {
      "text/plain": [
       "[' Tech Executive Consultant',\n",
       " ' Engineering Manager ',\n",
       " ' Senior Engineering Manager ',\n",
       " ' CTO ',\n",
       " ' Technical Delivery Manager ']"
      ]
     },
     "execution_count": 11,
     "metadata": {},
     "output_type": "execute_result"
    }
   ],
   "source": [
    "# scraping the job positions\n",
    "job_pos = [i.text.strip().split(\",\")[1].split(\"at\",1)[0] for i in soup.find_all(class_ = \"card-title\")]\n",
    "job_pos"
   ]
  },
  {
   "cell_type": "code",
   "execution_count": 12,
   "id": "dc15049c",
   "metadata": {},
   "outputs": [
    {
     "data": {
      "text/plain": [
       "5"
      ]
     },
     "execution_count": 12,
     "metadata": {},
     "output_type": "execute_result"
    }
   ],
   "source": [
    "len(job_pos)"
   ]
  },
  {
   "cell_type": "code",
   "execution_count": 13,
   "id": "f9de7987",
   "metadata": {},
   "outputs": [
    {
     "data": {
      "text/plain": [
       "[' Engineering Manager ', ' Mark43']"
      ]
     },
     "execution_count": 13,
     "metadata": {},
     "output_type": "execute_result"
    }
   ],
   "source": [
    "soup.find_all(class_ = \"card-title\")[1].text.strip().split(\",\")[1].split(\"at\",1)"
   ]
  },
  {
   "cell_type": "code",
   "execution_count": 14,
   "id": "ccaa97eb",
   "metadata": {},
   "outputs": [
    {
     "data": {
      "text/plain": [
       "['Independent', ' Mark43', ' Docker', ' patientMpower', ' AKQA']"
      ]
     },
     "execution_count": 14,
     "metadata": {},
     "output_type": "execute_result"
    }
   ],
   "source": [
    "#scraping the working company\n",
    "comp = []\n",
    "for i in soup.find_all(class_ = \"card-title\"):\n",
    "    if len(i.text.strip().split(\",\")[1].split(\"at\",1))>1:\n",
    "        comp.append(i.text.strip().split(\",\")[1].split(\"at\",1)[1])\n",
    "    else:\n",
    "        comp.append(\"Independent\")\n",
    "comp"
   ]
  },
  {
   "cell_type": "code",
   "execution_count": 15,
   "id": "8fbe5759",
   "metadata": {},
   "outputs": [
    {
     "data": {
      "text/plain": [
       "5"
      ]
     },
     "execution_count": 15,
     "metadata": {},
     "output_type": "execute_result"
    }
   ],
   "source": [
    "len(comp)"
   ]
  },
  {
   "cell_type": "code",
   "execution_count": 16,
   "id": "a85d86f0",
   "metadata": {},
   "outputs": [
    {
     "data": {
      "text/plain": [
       "'“I want to set up managers to succeed, no matter how much background they’ve already got.”'"
      ]
     },
     "execution_count": 16,
     "metadata": {},
     "output_type": "execute_result"
    }
   ],
   "source": [
    "soup.find_all(class_ = \"card-text\")[0::2][0].text.strip()"
   ]
  },
  {
   "cell_type": "code",
   "execution_count": 17,
   "id": "5186361e",
   "metadata": {},
   "outputs": [
    {
     "data": {
      "text/plain": [
       "['“I want to set up managers to succeed, no matter how much background they’ve already got.”',\n",
       " '“I very well understand where my interests lie, which is being an enabler first and then a creator rather than being a creator/ maker 100%.”',\n",
       " '“Your focus (and challenges) grows from your direct reports, to teams, to departments, executives, and then external customers and partnerships.”',\n",
       " '“If I can provide enough direction to allow people to focus on the jobs they’ll do better than I ever could, everybody wins.”',\n",
       " '“The switch to management can be highly rewarding and provide a level of independence, authority, and interactivity that a pure software engineering role may not offer.”']"
      ]
     },
     "execution_count": 17,
     "metadata": {},
     "output_type": "execute_result"
    }
   ],
   "source": [
    "# scraping the interview quotes\n",
    "quotes = [i.text.strip() for i in soup.find_all(class_ = \"card-text\")[0::2]]\n",
    "quotes"
   ]
  },
  {
   "cell_type": "code",
   "execution_count": 18,
   "id": "14fd7639",
   "metadata": {},
   "outputs": [
    {
     "data": {
      "text/plain": [
       "5"
      ]
     },
     "execution_count": 18,
     "metadata": {},
     "output_type": "execute_result"
    }
   ],
   "source": [
    "len(quotes)"
   ]
  },
  {
   "cell_type": "code",
   "execution_count": 19,
   "id": "c8a0bafa",
   "metadata": {},
   "outputs": [
    {
     "data": {
      "text/plain": [
       "'August 16, 2021'"
      ]
     },
     "execution_count": 19,
     "metadata": {},
     "output_type": "execute_result"
    }
   ],
   "source": [
    "soup.find_all(class_ = \"card-text\")[1::2][0].text.split(\"·\\n\")[0].strip()"
   ]
  },
  {
   "cell_type": "code",
   "execution_count": 20,
   "id": "6dc2fac8",
   "metadata": {},
   "outputs": [
    {
     "data": {
      "text/plain": [
       "['August 16, 2021',\n",
       " 'July 19, 2021',\n",
       " 'July 05, 2021',\n",
       " 'June 21, 2021',\n",
       " 'May 10, 2021']"
      ]
     },
     "execution_count": 20,
     "metadata": {},
     "output_type": "execute_result"
    }
   ],
   "source": [
    "# scraping the dates\n",
    "dts = [i.text.split(\"·\\n\")[0].strip() for i in soup.find_all(class_ = \"card-text\")[1::2]]\n",
    "dts"
   ]
  },
  {
   "cell_type": "code",
   "execution_count": 21,
   "id": "f1a0a1e1",
   "metadata": {},
   "outputs": [],
   "source": [
    "def dates(x):\n",
    "    x = x.replace(\"January\",\"01\")\n",
    "    x = x.replace(\"February\",\"02\")\n",
    "    x = x.replace(\"March\",\"03\")\n",
    "    x = x.replace(\"April\",\"04\")\n",
    "    x = x.replace(\"May\",\"05\")\n",
    "    x = x.replace(\"June\",\"06\")\n",
    "    x = x.replace(\"July\",\"07\")\n",
    "    x = x.replace(\"August\",\"08\")\n",
    "    x = x.replace(\"September\",\"09\")\n",
    "    x = x.replace(\"October\",\"10\")\n",
    "    x = x.replace(\"November\",\"11\")\n",
    "    x = x.replace(\"December\",\"12\")\n",
    "    x = x.replace(\", \",\"-\").replace(\" \",\"-\")\n",
    "    return x"
   ]
  },
  {
   "cell_type": "code",
   "execution_count": 22,
   "id": "00aaafe5",
   "metadata": {},
   "outputs": [
    {
     "data": {
      "text/plain": [
       "'08-16-2021'"
      ]
     },
     "execution_count": 22,
     "metadata": {},
     "output_type": "execute_result"
    }
   ],
   "source": [
    "dates('August 16, 2021')"
   ]
  },
  {
   "cell_type": "code",
   "execution_count": 23,
   "id": "e95f567f",
   "metadata": {},
   "outputs": [
    {
     "data": {
      "text/plain": [
       "['08-16-2021', '07-19-2021', '07-05-2021', '06-21-2021', '05-10-2021']"
      ]
     },
     "execution_count": 23,
     "metadata": {},
     "output_type": "execute_result"
    }
   ],
   "source": [
    "final_dates = [dates(i) for i in dts]\n",
    "final_dates"
   ]
  },
  {
   "cell_type": "code",
   "execution_count": 24,
   "id": "fbcdd614",
   "metadata": {},
   "outputs": [
    {
     "data": {
      "text/plain": [
       "5"
      ]
     },
     "execution_count": 24,
     "metadata": {},
     "output_type": "execute_result"
    }
   ],
   "source": [
    "len(final_dates)"
   ]
  },
  {
   "cell_type": "code",
   "execution_count": 25,
   "id": "1e37f19f",
   "metadata": {},
   "outputs": [
    {
     "data": {
      "text/plain": [
       "DatetimeIndex(['2021-08-16', '2021-07-19', '2021-07-05', '2021-06-21',\n",
       "               '2021-05-10'],\n",
       "              dtype='datetime64[ns]', freq=None)"
      ]
     },
     "execution_count": 25,
     "metadata": {},
     "output_type": "execute_result"
    }
   ],
   "source": [
    "final_dates = pd.to_datetime(final_dates, format=\"%m-%d-%Y\")\n",
    "final_dates"
   ]
  },
  {
   "cell_type": "code",
   "execution_count": 26,
   "id": "a6d11088",
   "metadata": {},
   "outputs": [
    {
     "data": {
      "text/plain": [
       "['#coaching', '#consulting']"
      ]
     },
     "execution_count": 26,
     "metadata": {},
     "output_type": "execute_result"
    }
   ],
   "source": [
    "soup.find_all(class_ = \"card-text\")[1::2][0].text.split(\"·\\n\")[1].split()"
   ]
  },
  {
   "cell_type": "code",
   "execution_count": 27,
   "id": "c2db4085",
   "metadata": {},
   "outputs": [
    {
     "data": {
      "text/plain": [
       "[['#coaching', '#consulting'],\n",
       " ['#coaching', '#frontend', '#full-stack', '#public-safety'],\n",
       " ['#backend', '#coaching', '#information-systems', '#web'],\n",
       " ['#full-stack', '#health-tech'],\n",
       " ['#consulting', '#digital-marketing', '#e-commerce', '#product']]"
      ]
     },
     "execution_count": 27,
     "metadata": {},
     "output_type": "execute_result"
    }
   ],
   "source": [
    "# scraping the tags\n",
    "tags = [i.text.split(\"·\\n\")[1].split() for i in soup.find_all(class_ = \"card-text\")[1::2]]\n",
    "tags"
   ]
  },
  {
   "cell_type": "code",
   "execution_count": 28,
   "id": "01b2ee3e",
   "metadata": {},
   "outputs": [
    {
     "data": {
      "text/plain": [
       "5"
      ]
     },
     "execution_count": 28,
     "metadata": {},
     "output_type": "execute_result"
    }
   ],
   "source": [
    "len(tags)"
   ]
  },
  {
   "cell_type": "code",
   "execution_count": 29,
   "id": "646d73cc",
   "metadata": {},
   "outputs": [
    {
     "data": {
      "text/html": [
       "<div>\n",
       "<style scoped>\n",
       "    .dataframe tbody tr th:only-of-type {\n",
       "        vertical-align: middle;\n",
       "    }\n",
       "\n",
       "    .dataframe tbody tr th {\n",
       "        vertical-align: top;\n",
       "    }\n",
       "\n",
       "    .dataframe thead th {\n",
       "        text-align: right;\n",
       "    }\n",
       "</style>\n",
       "<table border=\"1\" class=\"dataframe\">\n",
       "  <thead>\n",
       "    <tr style=\"text-align: right;\">\n",
       "      <th></th>\n",
       "      <th>Employee Name</th>\n",
       "      <th>Job Position</th>\n",
       "      <th>Working Company</th>\n",
       "      <th>Interview Quote</th>\n",
       "      <th>Date</th>\n",
       "      <th>Tags</th>\n",
       "    </tr>\n",
       "  </thead>\n",
       "  <tbody>\n",
       "    <tr>\n",
       "      <th>0</th>\n",
       "      <td>Aviv Ben-Yosef</td>\n",
       "      <td>Tech Executive Consultant</td>\n",
       "      <td>Independent</td>\n",
       "      <td>“I want to set up managers to succeed, no matt...</td>\n",
       "      <td>2021-08-16</td>\n",
       "      <td>[#coaching, #consulting]</td>\n",
       "    </tr>\n",
       "    <tr>\n",
       "      <th>1</th>\n",
       "      <td>Anand Safi</td>\n",
       "      <td>Engineering Manager</td>\n",
       "      <td>Mark43</td>\n",
       "      <td>“I very well understand where my interests lie...</td>\n",
       "      <td>2021-07-19</td>\n",
       "      <td>[#coaching, #frontend, #full-stack, #public-sa...</td>\n",
       "    </tr>\n",
       "    <tr>\n",
       "      <th>2</th>\n",
       "      <td>Shawn Axsom</td>\n",
       "      <td>Senior Engineering Manager</td>\n",
       "      <td>Docker</td>\n",
       "      <td>“Your focus (and challenges) grows from your d...</td>\n",
       "      <td>2021-07-05</td>\n",
       "      <td>[#backend, #coaching, #information-systems, #web]</td>\n",
       "    </tr>\n",
       "    <tr>\n",
       "      <th>3</th>\n",
       "      <td>Kevin Doyle</td>\n",
       "      <td>CTO</td>\n",
       "      <td>patientMpower</td>\n",
       "      <td>“If I can provide enough direction to allow pe...</td>\n",
       "      <td>2021-06-21</td>\n",
       "      <td>[#full-stack, #health-tech]</td>\n",
       "    </tr>\n",
       "    <tr>\n",
       "      <th>4</th>\n",
       "      <td>Arnab Sen</td>\n",
       "      <td>Technical Delivery Manager</td>\n",
       "      <td>AKQA</td>\n",
       "      <td>“The switch to management can be highly reward...</td>\n",
       "      <td>2021-05-10</td>\n",
       "      <td>[#consulting, #digital-marketing, #e-commerce,...</td>\n",
       "    </tr>\n",
       "  </tbody>\n",
       "</table>\n",
       "</div>"
      ],
      "text/plain": [
       "    Employee Name                  Job Position Working Company  \\\n",
       "0  Aviv Ben-Yosef     Tech Executive Consultant     Independent   \n",
       "1      Anand Safi          Engineering Manager           Mark43   \n",
       "2     Shawn Axsom   Senior Engineering Manager           Docker   \n",
       "3     Kevin Doyle                          CTO    patientMpower   \n",
       "4       Arnab Sen   Technical Delivery Manager             AKQA   \n",
       "\n",
       "                                     Interview Quote       Date  \\\n",
       "0  “I want to set up managers to succeed, no matt... 2021-08-16   \n",
       "1  “I very well understand where my interests lie... 2021-07-19   \n",
       "2  “Your focus (and challenges) grows from your d... 2021-07-05   \n",
       "3  “If I can provide enough direction to allow pe... 2021-06-21   \n",
       "4  “The switch to management can be highly reward... 2021-05-10   \n",
       "\n",
       "                                                Tags  \n",
       "0                           [#coaching, #consulting]  \n",
       "1  [#coaching, #frontend, #full-stack, #public-sa...  \n",
       "2  [#backend, #coaching, #information-systems, #web]  \n",
       "3                        [#full-stack, #health-tech]  \n",
       "4  [#consulting, #digital-marketing, #e-commerce,...  "
      ]
     },
     "execution_count": 29,
     "metadata": {},
     "output_type": "execute_result"
    }
   ],
   "source": [
    "# creating a dataframe with the scraped data\n",
    "df = pd.DataFrame({\"Employee Name\":emp_name,\"Job Position\":job_pos,\"Working Company\":comp,\"Interview Quote\":quotes,\"Date\":final_dates,\"Tags\":tags})\n",
    "df"
   ]
  },
  {
   "cell_type": "code",
   "execution_count": 30,
   "id": "02138f6b",
   "metadata": {},
   "outputs": [
    {
     "name": "stdout",
     "output_type": "stream",
     "text": [
      "<class 'pandas.core.frame.DataFrame'>\n",
      "RangeIndex: 5 entries, 0 to 4\n",
      "Data columns (total 6 columns):\n",
      " #   Column           Non-Null Count  Dtype         \n",
      "---  ------           --------------  -----         \n",
      " 0   Employee Name    5 non-null      object        \n",
      " 1   Job Position     5 non-null      object        \n",
      " 2   Working Company  5 non-null      object        \n",
      " 3   Interview Quote  5 non-null      object        \n",
      " 4   Date             5 non-null      datetime64[ns]\n",
      " 5   Tags             5 non-null      object        \n",
      "dtypes: datetime64[ns](1), object(5)\n",
      "memory usage: 368.0+ bytes\n"
     ]
    }
   ],
   "source": [
    "df.info()"
   ]
  },
  {
   "cell_type": "code",
   "execution_count": 31,
   "id": "33c6edf0",
   "metadata": {},
   "outputs": [],
   "source": [
    "# creating a reusable function which returns the dataframe\n",
    "def soft_managers():\n",
    "    emp_name = [i.text.strip().split(\",\")[0] for i in soup.find_all(class_ = \"card-title\")]\n",
    "    job_pos = [i.text.strip().split(\",\")[1].split(\"at\",1)[0] for i in soup.find_all(class_ = \"card-title\")]\n",
    "    comp = []\n",
    "    for i in soup.find_all(class_ = \"card-title\"):\n",
    "        if len(i.text.strip().split(\",\")[1].split(\"at\",1))>1:\n",
    "            comp.append(i.text.strip().split(\",\")[1].split(\"at\",1)[1])\n",
    "        else:\n",
    "            comp.append(\"Independent\")\n",
    "    quotes = [i.text.strip() for i in soup.find_all(class_ = \"card-text\")[0::2]]\n",
    "    dts = [i.text.split(\"·\\n\")[0].strip() for i in soup.find_all(class_ = \"card-text\")[1::2]]\n",
    "    final_dates = [dates(i) for i in dts]\n",
    "    final_dates = pd.to_datetime(final_dates, format=\"%m-%d-%Y\")\n",
    "    tags = [i.text.split(\"·\\n\")[1].split() for i in soup.find_all(class_ = \"card-text\")[1::2]]\n",
    "    df = pd.DataFrame({\"Employee Name\":emp_name,\"Job Position\":job_pos,\"Working Company\":comp,\"Interview Quote\":quotes,\"Date\":final_dates,\"Tags\":tags})\n",
    "    return df"
   ]
  },
  {
   "cell_type": "code",
   "execution_count": 32,
   "id": "98e262ed",
   "metadata": {},
   "outputs": [],
   "source": [
    "# scraping data from first 5 pages\n",
    "table = []\n",
    "stud = \"https://devtomanager.com/interviews/page/{}/\"\n",
    "\n",
    "for i in range(1,6):\n",
    "    url_all = stud.format(i)\n",
    "    browser.get(url_all)\n",
    "    html=browser.page_source\n",
    "    soup = BeautifulSoup(html, \"html.parser\")\n",
    "    table.append(soft_managers())\n"
   ]
  },
  {
   "cell_type": "code",
   "execution_count": 33,
   "id": "8b4d3770",
   "metadata": {},
   "outputs": [
    {
     "data": {
      "text/html": [
       "<div>\n",
       "<style scoped>\n",
       "    .dataframe tbody tr th:only-of-type {\n",
       "        vertical-align: middle;\n",
       "    }\n",
       "\n",
       "    .dataframe tbody tr th {\n",
       "        vertical-align: top;\n",
       "    }\n",
       "\n",
       "    .dataframe thead th {\n",
       "        text-align: right;\n",
       "    }\n",
       "</style>\n",
       "<table border=\"1\" class=\"dataframe\">\n",
       "  <thead>\n",
       "    <tr style=\"text-align: right;\">\n",
       "      <th></th>\n",
       "      <th>Employee Name</th>\n",
       "      <th>Job Position</th>\n",
       "      <th>Working Company</th>\n",
       "      <th>Interview Quote</th>\n",
       "      <th>Date</th>\n",
       "      <th>Tags</th>\n",
       "    </tr>\n",
       "  </thead>\n",
       "  <tbody>\n",
       "    <tr>\n",
       "      <th>0</th>\n",
       "      <td>Aviv Ben-Yosef</td>\n",
       "      <td>Tech Executive Consultant</td>\n",
       "      <td>Independent</td>\n",
       "      <td>“I want to set up managers to succeed, no matt...</td>\n",
       "      <td>2021-08-16</td>\n",
       "      <td>[#coaching, #consulting]</td>\n",
       "    </tr>\n",
       "    <tr>\n",
       "      <th>1</th>\n",
       "      <td>Anand Safi</td>\n",
       "      <td>Engineering Manager</td>\n",
       "      <td>Mark43</td>\n",
       "      <td>“I very well understand where my interests lie...</td>\n",
       "      <td>2021-07-19</td>\n",
       "      <td>[#coaching, #frontend, #full-stack, #public-sa...</td>\n",
       "    </tr>\n",
       "    <tr>\n",
       "      <th>2</th>\n",
       "      <td>Shawn Axsom</td>\n",
       "      <td>Senior Engineering Manager</td>\n",
       "      <td>Docker</td>\n",
       "      <td>“Your focus (and challenges) grows from your d...</td>\n",
       "      <td>2021-07-05</td>\n",
       "      <td>[#backend, #coaching, #information-systems, #web]</td>\n",
       "    </tr>\n",
       "    <tr>\n",
       "      <th>3</th>\n",
       "      <td>Kevin Doyle</td>\n",
       "      <td>CTO</td>\n",
       "      <td>patientMpower</td>\n",
       "      <td>“If I can provide enough direction to allow pe...</td>\n",
       "      <td>2021-06-21</td>\n",
       "      <td>[#full-stack, #health-tech]</td>\n",
       "    </tr>\n",
       "    <tr>\n",
       "      <th>4</th>\n",
       "      <td>Arnab Sen</td>\n",
       "      <td>Technical Delivery Manager</td>\n",
       "      <td>AKQA</td>\n",
       "      <td>“The switch to management can be highly reward...</td>\n",
       "      <td>2021-05-10</td>\n",
       "      <td>[#consulting, #digital-marketing, #e-commerce,...</td>\n",
       "    </tr>\n",
       "    <tr>\n",
       "      <th>0</th>\n",
       "      <td>Nicholas Cobb</td>\n",
       "      <td>Senior Manager of Software Engineering</td>\n",
       "      <td>Aurora Innovation</td>\n",
       "      <td>“Realizing that life as a manager will have it...</td>\n",
       "      <td>2021-04-26</td>\n",
       "      <td>[#autonomous-driving, #devops, #ios, #self-tau...</td>\n",
       "    </tr>\n",
       "    <tr>\n",
       "      <th>1</th>\n",
       "      <td>Christoph Eicke</td>\n",
       "      <td>Team Lead</td>\n",
       "      <td>Xing GmbH</td>\n",
       "      <td>“Sometimes it's better not to know the details...</td>\n",
       "      <td>2021-04-12</td>\n",
       "      <td>[#full-stack, #linux, #self-taught, #web]</td>\n",
       "    </tr>\n",
       "    <tr>\n",
       "      <th>2</th>\n",
       "      <td>Sam Phillips</td>\n",
       "      <td>Co-founder &amp; CTO</td>\n",
       "      <td>Residently</td>\n",
       "      <td>“I think leadership and management are roles t...</td>\n",
       "      <td>2021-03-29</td>\n",
       "      <td>[#coaching, #devops, #self-taught, #startup, #...</td>\n",
       "    </tr>\n",
       "    <tr>\n",
       "      <th>3</th>\n",
       "      <td>Dan Lines</td>\n",
       "      <td>Co-founder &amp; COO</td>\n",
       "      <td>LinearB</td>\n",
       "      <td>“Some sound advice I received is that if your ...</td>\n",
       "      <td>2021-03-15</td>\n",
       "      <td>[#cybersecurity, #entrepreneurship, #startup]</td>\n",
       "    </tr>\n",
       "    <tr>\n",
       "      <th>4</th>\n",
       "      <td>Duncan Skelton</td>\n",
       "      <td>Executive Coach</td>\n",
       "      <td>Duncan Skelton Coaching</td>\n",
       "      <td>“If you get the job, or are new to the role, t...</td>\n",
       "      <td>2021-03-01</td>\n",
       "      <td>[#coaching, #enterprise, #hardware, #systems-p...</td>\n",
       "    </tr>\n",
       "    <tr>\n",
       "      <th>0</th>\n",
       "      <td>James Bedford</td>\n",
       "      <td>Engineering Manager</td>\n",
       "      <td>Attest</td>\n",
       "      <td>“So many wait to be given permission to lead, ...</td>\n",
       "      <td>2021-02-15</td>\n",
       "      <td>[#consumer-research, #fintech, #frontend, #web]</td>\n",
       "    </tr>\n",
       "    <tr>\n",
       "      <th>1</th>\n",
       "      <td>Monica Lent</td>\n",
       "      <td>Founder</td>\n",
       "      <td>Blogging for Devs</td>\n",
       "      <td>“You have to have the big picture in mind. And...</td>\n",
       "      <td>2021-02-01</td>\n",
       "      <td>[#fintech, #frontend, #self-taught]</td>\n",
       "    </tr>\n",
       "    <tr>\n",
       "      <th>2</th>\n",
       "      <td>Andrew Heffernan</td>\n",
       "      <td>Director of Engineering</td>\n",
       "      <td>Validity Inc</td>\n",
       "      <td>“I was definitely drinking from the firehose, ...</td>\n",
       "      <td>2021-01-18</td>\n",
       "      <td>[#cloud, #self-taught, #web]</td>\n",
       "    </tr>\n",
       "    <tr>\n",
       "      <th>3</th>\n",
       "      <td>Abhishek Karmakar</td>\n",
       "      <td>Senior Engineering Manager</td>\n",
       "      <td>Target Corporation</td>\n",
       "      <td>“Understanding people, their personalities, le...</td>\n",
       "      <td>2020-11-30</td>\n",
       "      <td>[#android, #cloud, #distributed-systems, #mobile]</td>\n",
       "    </tr>\n",
       "    <tr>\n",
       "      <th>4</th>\n",
       "      <td>Greg Thomas</td>\n",
       "      <td>Founder</td>\n",
       "      <td>BetaRover Inc</td>\n",
       "      <td>“I’ve said a few times to the team that they a...</td>\n",
       "      <td>2020-11-16</td>\n",
       "      <td>[#cloud, #enterprise, #infrastructure, #self-t...</td>\n",
       "    </tr>\n",
       "    <tr>\n",
       "      <th>0</th>\n",
       "      <td>Siddharth Rao</td>\n",
       "      <td>Staff Software Engineer &amp; Tech Lead</td>\n",
       "      <td>Twitter</td>\n",
       "      <td>“It is quite important that every engineer set...</td>\n",
       "      <td>2020-11-02</td>\n",
       "      <td>[#adtech, #mentorship]</td>\n",
       "    </tr>\n",
       "    <tr>\n",
       "      <th>1</th>\n",
       "      <td>Marc Littlemore</td>\n",
       "      <td>Team Lead</td>\n",
       "      <td>BBC</td>\n",
       "      <td>“You have to realise that your value comes fro...</td>\n",
       "      <td>2020-10-19</td>\n",
       "      <td>[#game-development, #remote, #web]</td>\n",
       "    </tr>\n",
       "    <tr>\n",
       "      <th>2</th>\n",
       "      <td>Senthil Arivudainambi</td>\n",
       "      <td>VP of Engineering and Product</td>\n",
       "      <td>Walker &amp; Company</td>\n",
       "      <td>“What made you successful in your current role...</td>\n",
       "      <td>2020-10-05</td>\n",
       "      <td>[#distributed-teams, #health-tech]</td>\n",
       "    </tr>\n",
       "    <tr>\n",
       "      <th>3</th>\n",
       "      <td>Karthik Kotha</td>\n",
       "      <td>Engineering Manager</td>\n",
       "      <td>Kroger</td>\n",
       "      <td>“I have learned to track my impact in other wa...</td>\n",
       "      <td>2020-09-21</td>\n",
       "      <td>[#e-commerce, #frontend, #startup]</td>\n",
       "    </tr>\n",
       "    <tr>\n",
       "      <th>4</th>\n",
       "      <td>Markus Thurner</td>\n",
       "      <td>Engineering Lead</td>\n",
       "      <td>Cimpress</td>\n",
       "      <td>“The transition to becoming an engineering lea...</td>\n",
       "      <td>2020-09-07</td>\n",
       "      <td>[#data-platform, #distributed-teams, #media]</td>\n",
       "    </tr>\n",
       "    <tr>\n",
       "      <th>0</th>\n",
       "      <td>Dhimil Gosalia</td>\n",
       "      <td>Director of Engineering</td>\n",
       "      <td>BrowserStack</td>\n",
       "      <td>“What I enjoy the most is solving problems. I ...</td>\n",
       "      <td>2020-08-24</td>\n",
       "      <td>[#infrastructure, #mobile, #network-engineerin...</td>\n",
       "    </tr>\n",
       "    <tr>\n",
       "      <th>1</th>\n",
       "      <td>Daniel Millington</td>\n",
       "      <td>Engineering Manager</td>\n",
       "      <td>Samsara</td>\n",
       "      <td>“When I’m able to see engineers on my teams ta...</td>\n",
       "      <td>2020-08-10</td>\n",
       "      <td>[#embedded-systems, #infrastructure, #internet...</td>\n",
       "    </tr>\n",
       "    <tr>\n",
       "      <th>2</th>\n",
       "      <td>Dhruv Agarwal</td>\n",
       "      <td>Engineering Manager</td>\n",
       "      <td>Shuttl</td>\n",
       "      <td>“Always think about the larger picture and not...</td>\n",
       "      <td>2020-07-27</td>\n",
       "      <td>[#product, #web]</td>\n",
       "    </tr>\n",
       "    <tr>\n",
       "      <th>3</th>\n",
       "      <td>Swaathi Kakarla</td>\n",
       "      <td>Co-founder &amp; CTO</td>\n",
       "      <td>Skcript</td>\n",
       "      <td>“People management is not like giving instruct...</td>\n",
       "      <td>2020-07-13</td>\n",
       "      <td>[#elixir, #product, #ruby-on-rails, #web]</td>\n",
       "    </tr>\n",
       "    <tr>\n",
       "      <th>4</th>\n",
       "      <td>Mark Shropshire</td>\n",
       "      <td>Senior Director of Development</td>\n",
       "      <td>Mediacurrent</td>\n",
       "      <td>“You can lead in your current role. No need to...</td>\n",
       "      <td>2020-06-29</td>\n",
       "      <td>[#mentorship, #open-source]</td>\n",
       "    </tr>\n",
       "  </tbody>\n",
       "</table>\n",
       "</div>"
      ],
      "text/plain": [
       "           Employee Name                              Job Position  \\\n",
       "0         Aviv Ben-Yosef                 Tech Executive Consultant   \n",
       "1             Anand Safi                      Engineering Manager    \n",
       "2            Shawn Axsom               Senior Engineering Manager    \n",
       "3            Kevin Doyle                                      CTO    \n",
       "4              Arnab Sen               Technical Delivery Manager    \n",
       "0          Nicholas Cobb   Senior Manager of Software Engineering    \n",
       "1        Christoph Eicke                                Team Lead    \n",
       "2           Sam Phillips                         Co-founder & CTO    \n",
       "3              Dan Lines                         Co-founder & COO    \n",
       "4         Duncan Skelton                          Executive Coach    \n",
       "0          James Bedford                      Engineering Manager    \n",
       "1            Monica Lent                                  Founder    \n",
       "2       Andrew Heffernan                  Director of Engineering    \n",
       "3      Abhishek Karmakar               Senior Engineering Manager    \n",
       "4            Greg Thomas                                  Founder    \n",
       "0          Siddharth Rao      Staff Software Engineer & Tech Lead    \n",
       "1        Marc Littlemore                                Team Lead    \n",
       "2  Senthil Arivudainambi            VP of Engineering and Product    \n",
       "3          Karthik Kotha                      Engineering Manager    \n",
       "4         Markus Thurner                         Engineering Lead    \n",
       "0         Dhimil Gosalia                  Director of Engineering    \n",
       "1      Daniel Millington                      Engineering Manager    \n",
       "2          Dhruv Agarwal                      Engineering Manager    \n",
       "3        Swaathi Kakarla                         Co-founder & CTO    \n",
       "4        Mark Shropshire           Senior Director of Development    \n",
       "\n",
       "            Working Company  \\\n",
       "0               Independent   \n",
       "1                    Mark43   \n",
       "2                    Docker   \n",
       "3             patientMpower   \n",
       "4                      AKQA   \n",
       "0         Aurora Innovation   \n",
       "1                 Xing GmbH   \n",
       "2                Residently   \n",
       "3                   LinearB   \n",
       "4   Duncan Skelton Coaching   \n",
       "0                    Attest   \n",
       "1         Blogging for Devs   \n",
       "2              Validity Inc   \n",
       "3        Target Corporation   \n",
       "4             BetaRover Inc   \n",
       "0                   Twitter   \n",
       "1                       BBC   \n",
       "2          Walker & Company   \n",
       "3                    Kroger   \n",
       "4                  Cimpress   \n",
       "0              BrowserStack   \n",
       "1                   Samsara   \n",
       "2                    Shuttl   \n",
       "3                   Skcript   \n",
       "4              Mediacurrent   \n",
       "\n",
       "                                     Interview Quote       Date  \\\n",
       "0  “I want to set up managers to succeed, no matt... 2021-08-16   \n",
       "1  “I very well understand where my interests lie... 2021-07-19   \n",
       "2  “Your focus (and challenges) grows from your d... 2021-07-05   \n",
       "3  “If I can provide enough direction to allow pe... 2021-06-21   \n",
       "4  “The switch to management can be highly reward... 2021-05-10   \n",
       "0  “Realizing that life as a manager will have it... 2021-04-26   \n",
       "1  “Sometimes it's better not to know the details... 2021-04-12   \n",
       "2  “I think leadership and management are roles t... 2021-03-29   \n",
       "3  “Some sound advice I received is that if your ... 2021-03-15   \n",
       "4  “If you get the job, or are new to the role, t... 2021-03-01   \n",
       "0  “So many wait to be given permission to lead, ... 2021-02-15   \n",
       "1  “You have to have the big picture in mind. And... 2021-02-01   \n",
       "2  “I was definitely drinking from the firehose, ... 2021-01-18   \n",
       "3  “Understanding people, their personalities, le... 2020-11-30   \n",
       "4  “I’ve said a few times to the team that they a... 2020-11-16   \n",
       "0  “It is quite important that every engineer set... 2020-11-02   \n",
       "1  “You have to realise that your value comes fro... 2020-10-19   \n",
       "2  “What made you successful in your current role... 2020-10-05   \n",
       "3  “I have learned to track my impact in other wa... 2020-09-21   \n",
       "4  “The transition to becoming an engineering lea... 2020-09-07   \n",
       "0  “What I enjoy the most is solving problems. I ... 2020-08-24   \n",
       "1  “When I’m able to see engineers on my teams ta... 2020-08-10   \n",
       "2  “Always think about the larger picture and not... 2020-07-27   \n",
       "3  “People management is not like giving instruct... 2020-07-13   \n",
       "4  “You can lead in your current role. No need to... 2020-06-29   \n",
       "\n",
       "                                                Tags  \n",
       "0                           [#coaching, #consulting]  \n",
       "1  [#coaching, #frontend, #full-stack, #public-sa...  \n",
       "2  [#backend, #coaching, #information-systems, #web]  \n",
       "3                        [#full-stack, #health-tech]  \n",
       "4  [#consulting, #digital-marketing, #e-commerce,...  \n",
       "0  [#autonomous-driving, #devops, #ios, #self-tau...  \n",
       "1          [#full-stack, #linux, #self-taught, #web]  \n",
       "2  [#coaching, #devops, #self-taught, #startup, #...  \n",
       "3      [#cybersecurity, #entrepreneurship, #startup]  \n",
       "4  [#coaching, #enterprise, #hardware, #systems-p...  \n",
       "0    [#consumer-research, #fintech, #frontend, #web]  \n",
       "1                [#fintech, #frontend, #self-taught]  \n",
       "2                       [#cloud, #self-taught, #web]  \n",
       "3  [#android, #cloud, #distributed-systems, #mobile]  \n",
       "4  [#cloud, #enterprise, #infrastructure, #self-t...  \n",
       "0                             [#adtech, #mentorship]  \n",
       "1                 [#game-development, #remote, #web]  \n",
       "2                 [#distributed-teams, #health-tech]  \n",
       "3                 [#e-commerce, #frontend, #startup]  \n",
       "4       [#data-platform, #distributed-teams, #media]  \n",
       "0  [#infrastructure, #mobile, #network-engineerin...  \n",
       "1  [#embedded-systems, #infrastructure, #internet...  \n",
       "2                                   [#product, #web]  \n",
       "3          [#elixir, #product, #ruby-on-rails, #web]  \n",
       "4                        [#mentorship, #open-source]  "
      ]
     },
     "execution_count": 33,
     "metadata": {},
     "output_type": "execute_result"
    }
   ],
   "source": [
    "# dataframe of details from first five pages\n",
    "final_df = pd.concat(table,axis=0)\n",
    "final_df"
   ]
  },
  {
   "cell_type": "code",
   "execution_count": 34,
   "id": "99d84a07",
   "metadata": {},
   "outputs": [
    {
     "data": {
      "text/plain": [
       "(25, 6)"
      ]
     },
     "execution_count": 34,
     "metadata": {},
     "output_type": "execute_result"
    }
   ],
   "source": [
    "final_df.shape"
   ]
  },
  {
   "cell_type": "code",
   "execution_count": 35,
   "id": "6e14fe7a",
   "metadata": {},
   "outputs": [
    {
     "name": "stdout",
     "output_type": "stream",
     "text": [
      "<class 'pandas.core.frame.DataFrame'>\n",
      "Int64Index: 25 entries, 0 to 4\n",
      "Data columns (total 6 columns):\n",
      " #   Column           Non-Null Count  Dtype         \n",
      "---  ------           --------------  -----         \n",
      " 0   Employee Name    25 non-null     object        \n",
      " 1   Job Position     25 non-null     object        \n",
      " 2   Working Company  25 non-null     object        \n",
      " 3   Interview Quote  25 non-null     object        \n",
      " 4   Date             25 non-null     datetime64[ns]\n",
      " 5   Tags             25 non-null     object        \n",
      "dtypes: datetime64[ns](1), object(5)\n",
      "memory usage: 1.4+ KB\n"
     ]
    }
   ],
   "source": [
    "final_df.info()"
   ]
  },
  {
   "cell_type": "code",
   "execution_count": 36,
   "id": "7479b55d",
   "metadata": {},
   "outputs": [
    {
     "data": {
      "text/html": [
       "<div>\n",
       "<style scoped>\n",
       "    .dataframe tbody tr th:only-of-type {\n",
       "        vertical-align: middle;\n",
       "    }\n",
       "\n",
       "    .dataframe tbody tr th {\n",
       "        vertical-align: top;\n",
       "    }\n",
       "\n",
       "    .dataframe thead th {\n",
       "        text-align: right;\n",
       "    }\n",
       "</style>\n",
       "<table border=\"1\" class=\"dataframe\">\n",
       "  <thead>\n",
       "    <tr style=\"text-align: right;\">\n",
       "      <th></th>\n",
       "      <th>Unnamed: 0</th>\n",
       "      <th>Employee Name</th>\n",
       "      <th>Job Position</th>\n",
       "      <th>Working Company</th>\n",
       "      <th>Interview Quote</th>\n",
       "      <th>Date</th>\n",
       "      <th>Tags</th>\n",
       "    </tr>\n",
       "  </thead>\n",
       "  <tbody>\n",
       "    <tr>\n",
       "      <th>0</th>\n",
       "      <td>0</td>\n",
       "      <td>Aviv Ben-Yosef</td>\n",
       "      <td>Tech Executive Consultant</td>\n",
       "      <td>Independent</td>\n",
       "      <td>“I want to set up managers to succeed, no matt...</td>\n",
       "      <td>2021-08-16</td>\n",
       "      <td>['#coaching', '#consulting']</td>\n",
       "    </tr>\n",
       "    <tr>\n",
       "      <th>1</th>\n",
       "      <td>1</td>\n",
       "      <td>Anand Safi</td>\n",
       "      <td>Engineering Manager</td>\n",
       "      <td>Mark43</td>\n",
       "      <td>“I very well understand where my interests lie...</td>\n",
       "      <td>2021-07-19</td>\n",
       "      <td>['#coaching', '#frontend', '#full-stack', '#pu...</td>\n",
       "    </tr>\n",
       "    <tr>\n",
       "      <th>2</th>\n",
       "      <td>2</td>\n",
       "      <td>Shawn Axsom</td>\n",
       "      <td>Senior Engineering Manager</td>\n",
       "      <td>Docker</td>\n",
       "      <td>“Your focus (and challenges) grows from your d...</td>\n",
       "      <td>2021-07-05</td>\n",
       "      <td>['#backend', '#coaching', '#information-system...</td>\n",
       "    </tr>\n",
       "    <tr>\n",
       "      <th>3</th>\n",
       "      <td>3</td>\n",
       "      <td>Kevin Doyle</td>\n",
       "      <td>CTO</td>\n",
       "      <td>patientMpower</td>\n",
       "      <td>“If I can provide enough direction to allow pe...</td>\n",
       "      <td>2021-06-21</td>\n",
       "      <td>['#full-stack', '#health-tech']</td>\n",
       "    </tr>\n",
       "    <tr>\n",
       "      <th>4</th>\n",
       "      <td>4</td>\n",
       "      <td>Arnab Sen</td>\n",
       "      <td>Technical Delivery Manager</td>\n",
       "      <td>AKQA</td>\n",
       "      <td>“The switch to management can be highly reward...</td>\n",
       "      <td>2021-05-10</td>\n",
       "      <td>['#consulting', '#digital-marketing', '#e-comm...</td>\n",
       "    </tr>\n",
       "  </tbody>\n",
       "</table>\n",
       "</div>"
      ],
      "text/plain": [
       "   Unnamed: 0   Employee Name                  Job Position Working Company  \\\n",
       "0           0  Aviv Ben-Yosef     Tech Executive Consultant     Independent   \n",
       "1           1      Anand Safi          Engineering Manager           Mark43   \n",
       "2           2     Shawn Axsom   Senior Engineering Manager           Docker   \n",
       "3           3     Kevin Doyle                          CTO    patientMpower   \n",
       "4           4       Arnab Sen   Technical Delivery Manager             AKQA   \n",
       "\n",
       "                                     Interview Quote        Date  \\\n",
       "0  “I want to set up managers to succeed, no matt...  2021-08-16   \n",
       "1  “I very well understand where my interests lie...  2021-07-19   \n",
       "2  “Your focus (and challenges) grows from your d...  2021-07-05   \n",
       "3  “If I can provide enough direction to allow pe...  2021-06-21   \n",
       "4  “The switch to management can be highly reward...  2021-05-10   \n",
       "\n",
       "                                                Tags  \n",
       "0                       ['#coaching', '#consulting']  \n",
       "1  ['#coaching', '#frontend', '#full-stack', '#pu...  \n",
       "2  ['#backend', '#coaching', '#information-system...  \n",
       "3                    ['#full-stack', '#health-tech']  \n",
       "4  ['#consulting', '#digital-marketing', '#e-comm...  "
      ]
     },
     "execution_count": 36,
     "metadata": {},
     "output_type": "execute_result"
    }
   ],
   "source": [
    "# creating a csv file with the dataframe\n",
    "final_df.to_csv(\"Software Managers.csv\")\n",
    "pd.read_csv(\"Software Managers.csv\").head()"
   ]
  },
  {
   "cell_type": "code",
   "execution_count": null,
   "id": "219516e9",
   "metadata": {},
   "outputs": [],
   "source": []
  }
 ],
 "metadata": {
  "kernelspec": {
   "display_name": "Python 3 (ipykernel)",
   "language": "python",
   "name": "python3"
  },
  "language_info": {
   "codemirror_mode": {
    "name": "ipython",
    "version": 3
   },
   "file_extension": ".py",
   "mimetype": "text/x-python",
   "name": "python",
   "nbconvert_exporter": "python",
   "pygments_lexer": "ipython3",
   "version": "3.9.7"
  }
 },
 "nbformat": 4,
 "nbformat_minor": 5
}
